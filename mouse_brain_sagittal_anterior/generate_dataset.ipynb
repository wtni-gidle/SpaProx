{
 "cells": [
  {
   "cell_type": "code",
   "execution_count": 1,
   "metadata": {},
   "outputs": [],
   "source": [
    "import os\n",
    "os.chdir(\"..\")\n",
    "import scanpy as sc\n",
    "\n",
    "import datapre as DP\n",
    "\n",
    "sc.set_figure_params(facecolor = \"white\")\n",
    "sc.settings.verbosity = 1\n",
    "dirname = \"mouse_brain_sagittal_anterior\""
   ]
  },
  {
   "cell_type": "code",
   "execution_count": 2,
   "metadata": {},
   "outputs": [],
   "source": [
    "NEIGHBOR_DIS = 1.0"
   ]
  },
  {
   "cell_type": "code",
   "execution_count": 3,
   "metadata": {},
   "outputs": [
    {
     "name": "stderr",
     "output_type": "stream",
     "text": [
      "/home/huggs/anaconda3/envs/rapids_nwt/lib/python3.8/site-packages/anndata/_core/anndata.py:1832: UserWarning: Variable names are not unique. To make them unique, call `.var_names_make_unique`.\n",
      "  utils.warn_names_duplicates(\"var\")\n"
     ]
    }
   ],
   "source": [
    "adata = sc.datasets.visium_sge(sample_id = \"V1_Mouse_Brain_Sagittal_Anterior\")\n",
    "adata.var_names_make_unique()\n",
    "adata.var[\"mt\"] = adata.var_names.str.startswith(\"mt-\")\n",
    "sc.pp.calculate_qc_metrics(adata, qc_vars = [\"mt\"], inplace = True)"
   ]
  },
  {
   "cell_type": "code",
   "execution_count": 4,
   "metadata": {},
   "outputs": [],
   "source": [
    "sc.pp.filter_genes(adata, min_counts = 10)"
   ]
  },
  {
   "cell_type": "code",
   "execution_count": 5,
   "metadata": {},
   "outputs": [],
   "source": [
    "DP.setup_seed(38)"
   ]
  },
  {
   "cell_type": "code",
   "execution_count": 6,
   "metadata": {},
   "outputs": [],
   "source": [
    "import pickle\n",
    "with open(dirname + \"/sel_feature.pkl\", \"rb\") as file:\n",
    "    spagene = pickle.load(file)"
   ]
  },
  {
   "cell_type": "code",
   "execution_count": 7,
   "metadata": {},
   "outputs": [],
   "source": [
    "train_data, test_data, tt_data = DP.dataset_blind(adata, spagene, NEIGHBOR_DIS, neg_size = None)\n",
    "with open(dirname + \"/train_data.pkl\", \"wb\") as file:\n",
    "    pickle.dump(train_data, file)\n",
    "with open(dirname + \"/test_data.pkl\", \"wb\") as file:\n",
    "    pickle.dump(test_data, file)\n",
    "with open(dirname + \"/tt_data.pkl\", \"wb\") as file:\n",
    "    pickle.dump(tt_data, file)"
   ]
  }
 ],
 "metadata": {
  "kernelspec": {
   "display_name": "rapids_nwt",
   "language": "python",
   "name": "python3"
  },
  "language_info": {
   "codemirror_mode": {
    "name": "ipython",
    "version": 3
   },
   "file_extension": ".py",
   "mimetype": "text/x-python",
   "name": "python",
   "nbconvert_exporter": "python",
   "pygments_lexer": "ipython3",
   "version": "3.8.16"
  },
  "orig_nbformat": 4
 },
 "nbformat": 4,
 "nbformat_minor": 2
}
