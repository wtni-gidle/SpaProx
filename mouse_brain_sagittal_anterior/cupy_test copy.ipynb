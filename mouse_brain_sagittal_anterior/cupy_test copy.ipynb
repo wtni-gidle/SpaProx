{
 "cells": [
  {
   "cell_type": "code",
   "execution_count": 1,
   "metadata": {},
   "outputs": [],
   "source": [
    "import os\n",
    "os.chdir(\"..\")\n",
    "os.environ[\"CUDA_DEVICE_ORDER\"] = \"PCI_BUS_ID\"\n",
    "import imb\n",
    "import pickle\n",
    "dirname = \"mouse_brain_sagittal_anterior\"\n",
    "GPU_ID = 1\n",
    "with open(dirname + \"/train_data.pkl\", \"rb\") as file:\n",
    "    train_data = pickle.load(file)\n",
    "with open(dirname + \"/test_data.pkl\", \"rb\") as file:\n",
    "    test_data = pickle.load(file)\n",
    "import datapre as DP\n",
    "DP.setup_seed(1)"
   ]
  },
  {
   "cell_type": "code",
   "execution_count": 2,
   "metadata": {},
   "outputs": [],
   "source": [
    "import cupy as cp\n",
    "mempool = cp.get_default_memory_pool()\n",
    "pinned_mempool = cp.get_default_pinned_memory_pool()"
   ]
  },
  {
   "cell_type": "code",
   "execution_count": 3,
   "metadata": {},
   "outputs": [],
   "source": [
    "with cp.cuda.Device(GPU_ID):\n",
    "    pos_index, neg_index, marked_neg_index = imb.eliminate_BD_neg(train_data.feature, train_data.label, k = 20)\n",
    "    mempool.free_all_blocks()\n",
    "    pinned_mempool.free_all_blocks()\n",
    "    marked_neg_index = cp.asnumpy(marked_neg_index)"
   ]
  },
  {
   "attachments": {},
   "cell_type": "markdown",
   "metadata": {},
   "source": [
    "import matplotlib.pyplot as plt\n",
    "import numpy as np\n",
    "import scanpy as sc\n",
    "sc.settings.verbosity = 1\n",
    "def spot_plot(adata, pair_index, pair_color):\n",
    "    spa_pixel = adata.obsm[\"spatial\"].copy()\n",
    "    scalefactor = adata.uns[\"spatial\"]['V1_Mouse_Brain_Sagittal_Anterior'][\"scalefactors\"][\"tissue_hires_scalef\"] \n",
    "    pixels = np.apply_along_axis(\n",
    "        lambda x : (spa_pixel[x] * scalefactor).reshape(-1), \n",
    "        1, \n",
    "        pair_index\n",
    "    )\n",
    "    _, ax = plt.subplots(constrained_layout = True, figsize = (8, 6))\n",
    "    sc.pl.spatial(\n",
    "        adata, \n",
    "        img_key = \"hires\", \n",
    "        size = 1.2,\n",
    "        show = False, \n",
    "        ax = ax, \n",
    "        zorder = 1,\n",
    "        color = \"clusters\"\n",
    "    )\n",
    "    for lines in pixels:\n",
    "        _ = ax.plot(\n",
    "            [lines[0], lines[2]], \n",
    "            [lines[1], lines[3]],\n",
    "            alpha = 0.7,\n",
    "            zorder = 2,\n",
    "            color = pair_color\n",
    "        )"
   ]
  },
  {
   "attachments": {},
   "cell_type": "markdown",
   "metadata": {},
   "source": [
    "adata = sc.datasets.visium_sge(sample_id = \"V1_Mouse_Brain_Sagittal_Anterior\")\n",
    "adata.var_names_make_unique()\n",
    "adata.var[\"mt\"] = adata.var_names.str.startswith(\"mt-\")\n",
    "sc.pp.calculate_qc_metrics(adata, qc_vars = [\"mt\"], inplace = True)"
   ]
  },
  {
   "attachments": {},
   "cell_type": "markdown",
   "metadata": {},
   "source": [
    "with open(dirname + \"/clusters.pkl\", \"rb\") as file:\n",
    "    adata.obs[\"clusters\"] = pickle.load(file)"
   ]
  },
  {
   "attachments": {},
   "cell_type": "markdown",
   "metadata": {},
   "source": [
    "with cp.cuda.Device(GPU_ID):\n",
    "    spot_plot(adata, train_data.pair_index[[20]], pair_color = \"black\")"
   ]
  },
  {
   "cell_type": "code",
   "execution_count": 4,
   "metadata": {},
   "outputs": [],
   "source": [
    "marked_feature = train_data.get_feature(train_data.pair_index_son[marked_neg_index], copy = True)\n",
    "marked_label = train_data.get_label(train_data.data_index[marked_neg_index], copy = True)"
   ]
  },
  {
   "cell_type": "code",
   "execution_count": 5,
   "metadata": {},
   "outputs": [],
   "source": [
    "train_data.pop(marked_neg_index)\n",
    "train_data.mirror_copy()\n",
    "train_data.get_feature()\n",
    "train_data.get_label()"
   ]
  },
  {
   "cell_type": "code",
   "execution_count": 6,
   "metadata": {},
   "outputs": [
    {
     "name": "stderr",
     "output_type": "stream",
     "text": [
      "Epoch [1/50]: 100%|██████████| 6980/6980 [00:31<00:00, 222.99it/s, train_loss=0.0074]\n",
      "Valid: 100%|██████████| 776/776 [00:01<00:00, 455.45it/s, val_loss=0.0014]\n"
     ]
    },
    {
     "name": "stdout",
     "output_type": "stream",
     "text": [
      "Validation loss decreased (inf --> 0.001383)\n",
      "----------------------------------------------------------------\n"
     ]
    },
    {
     "name": "stderr",
     "output_type": "stream",
     "text": [
      "Epoch [2/50]: 100%|██████████| 6980/6980 [00:28<00:00, 244.58it/s, train_loss=0.0032]\n",
      "Valid: 100%|██████████| 776/776 [00:01<00:00, 439.60it/s, val_loss=0.0009]\n"
     ]
    },
    {
     "name": "stdout",
     "output_type": "stream",
     "text": [
      "Validation loss decreased (0.001383 --> 0.000942)\n",
      "----------------------------------------------------------------\n"
     ]
    },
    {
     "name": "stderr",
     "output_type": "stream",
     "text": [
      "Epoch [3/50]: 100%|██████████| 6980/6980 [00:30<00:00, 229.34it/s, train_loss=0.0024]\n",
      "Valid: 100%|██████████| 776/776 [00:01<00:00, 440.93it/s, val_loss=0.0009]\n"
     ]
    },
    {
     "name": "stdout",
     "output_type": "stream",
     "text": [
      "Validation loss decreased (0.000942 --> 0.000884)\n",
      "----------------------------------------------------------------\n"
     ]
    },
    {
     "name": "stderr",
     "output_type": "stream",
     "text": [
      "Epoch [4/50]: 100%|██████████| 6980/6980 [00:30<00:00, 232.54it/s, train_loss=0.0021]\n",
      "Valid: 100%|██████████| 776/776 [00:01<00:00, 468.85it/s, val_loss=0.0006]\n"
     ]
    },
    {
     "name": "stdout",
     "output_type": "stream",
     "text": [
      "Validation loss decreased (0.000884 --> 0.000632)\n",
      "----------------------------------------------------------------\n"
     ]
    },
    {
     "name": "stderr",
     "output_type": "stream",
     "text": [
      "Epoch [5/50]: 100%|██████████| 6980/6980 [00:29<00:00, 236.30it/s, train_loss=0.0018]\n",
      "Valid: 100%|██████████| 776/776 [00:01<00:00, 455.77it/s, val_loss=0.0012]\n"
     ]
    },
    {
     "name": "stdout",
     "output_type": "stream",
     "text": [
      "EarlyStopping counter: 1 out of 7\n",
      "----------------------------------------------------------------\n"
     ]
    },
    {
     "name": "stderr",
     "output_type": "stream",
     "text": [
      "Epoch [6/50]: 100%|██████████| 6980/6980 [00:29<00:00, 233.71it/s, train_loss=0.0019]\n",
      "Valid: 100%|██████████| 776/776 [00:01<00:00, 485.85it/s, val_loss=0.0009]\n"
     ]
    },
    {
     "name": "stdout",
     "output_type": "stream",
     "text": [
      "EarlyStopping counter: 2 out of 7\n",
      "----------------------------------------------------------------\n"
     ]
    },
    {
     "name": "stderr",
     "output_type": "stream",
     "text": [
      "Epoch [7/50]: 100%|██████████| 6980/6980 [00:29<00:00, 232.71it/s, train_loss=0.0018]\n",
      "Valid: 100%|██████████| 776/776 [00:01<00:00, 465.89it/s, val_loss=0.0004]\n"
     ]
    },
    {
     "name": "stdout",
     "output_type": "stream",
     "text": [
      "Validation loss decreased (0.000632 --> 0.000366)\n",
      "----------------------------------------------------------------\n"
     ]
    },
    {
     "name": "stderr",
     "output_type": "stream",
     "text": [
      "Epoch [8/50]: 100%|██████████| 6980/6980 [00:29<00:00, 239.70it/s, train_loss=0.0016]\n",
      "Valid: 100%|██████████| 776/776 [00:01<00:00, 455.94it/s, val_loss=0.001]\n"
     ]
    },
    {
     "name": "stdout",
     "output_type": "stream",
     "text": [
      "EarlyStopping counter: 1 out of 7\n",
      "----------------------------------------------------------------\n"
     ]
    },
    {
     "name": "stderr",
     "output_type": "stream",
     "text": [
      "Epoch [9/50]: 100%|██████████| 6980/6980 [00:30<00:00, 231.50it/s, train_loss=0.0015]\n",
      "Valid: 100%|██████████| 776/776 [00:01<00:00, 484.16it/s, val_loss=0.0003]\n"
     ]
    },
    {
     "name": "stdout",
     "output_type": "stream",
     "text": [
      "Validation loss decreased (0.000366 --> 0.000342)\n",
      "----------------------------------------------------------------\n"
     ]
    },
    {
     "name": "stderr",
     "output_type": "stream",
     "text": [
      "Epoch [10/50]: 100%|██████████| 6980/6980 [00:29<00:00, 233.74it/s, train_loss=0.0015]\n",
      "Valid: 100%|██████████| 776/776 [00:01<00:00, 450.89it/s, val_loss=0.0009]\n"
     ]
    },
    {
     "name": "stdout",
     "output_type": "stream",
     "text": [
      "EarlyStopping counter: 1 out of 7\n",
      "----------------------------------------------------------------\n"
     ]
    },
    {
     "name": "stderr",
     "output_type": "stream",
     "text": [
      "Epoch [11/50]: 100%|██████████| 6980/6980 [00:28<00:00, 243.05it/s, train_loss=0.0016]\n",
      "Valid: 100%|██████████| 776/776 [00:01<00:00, 454.84it/s, val_loss=0.0006]\n"
     ]
    },
    {
     "name": "stdout",
     "output_type": "stream",
     "text": [
      "EarlyStopping counter: 2 out of 7\n",
      "----------------------------------------------------------------\n"
     ]
    },
    {
     "name": "stderr",
     "output_type": "stream",
     "text": [
      "Epoch [12/50]: 100%|██████████| 6980/6980 [00:28<00:00, 241.58it/s, train_loss=0.0017]\n",
      "Valid: 100%|██████████| 776/776 [00:01<00:00, 493.09it/s, val_loss=0.0006]\n"
     ]
    },
    {
     "name": "stdout",
     "output_type": "stream",
     "text": [
      "EarlyStopping counter: 3 out of 7\n",
      "----------------------------------------------------------------\n"
     ]
    },
    {
     "name": "stderr",
     "output_type": "stream",
     "text": [
      "Epoch [13/50]: 100%|██████████| 6980/6980 [00:30<00:00, 228.74it/s, train_loss=0.0017]\n",
      "Valid: 100%|██████████| 776/776 [00:01<00:00, 438.23it/s, val_loss=0.0004]\n"
     ]
    },
    {
     "name": "stdout",
     "output_type": "stream",
     "text": [
      "EarlyStopping counter: 4 out of 7\n",
      "----------------------------------------------------------------\n"
     ]
    },
    {
     "name": "stderr",
     "output_type": "stream",
     "text": [
      "Epoch [14/50]: 100%|██████████| 6980/6980 [00:28<00:00, 247.53it/s, train_loss=0.0015]\n",
      "Valid: 100%|██████████| 776/776 [00:01<00:00, 441.69it/s, val_loss=0.0006]\n"
     ]
    },
    {
     "name": "stdout",
     "output_type": "stream",
     "text": [
      "EarlyStopping counter: 5 out of 7\n",
      "----------------------------------------------------------------\n"
     ]
    },
    {
     "name": "stderr",
     "output_type": "stream",
     "text": [
      "Epoch [15/50]: 100%|██████████| 6980/6980 [00:29<00:00, 233.83it/s, train_loss=0.0016]\n",
      "Valid: 100%|██████████| 776/776 [00:01<00:00, 446.42it/s, val_loss=0.0007]\n"
     ]
    },
    {
     "name": "stdout",
     "output_type": "stream",
     "text": [
      "EarlyStopping counter: 6 out of 7\n",
      "----------------------------------------------------------------\n"
     ]
    },
    {
     "name": "stderr",
     "output_type": "stream",
     "text": [
      "Epoch [16/50]: 100%|██████████| 6980/6980 [00:30<00:00, 230.03it/s, train_loss=0.0016]\n",
      "Valid: 100%|██████████| 776/776 [00:01<00:00, 438.67it/s, val_loss=0.0006]\n"
     ]
    },
    {
     "name": "stdout",
     "output_type": "stream",
     "text": [
      "EarlyStopping counter: 7 out of 7\n",
      "Early stopping\n",
      "----------------------------------------------------------------\n"
     ]
    },
    {
     "data": {
      "text/html": [
       "<style>#sk-container-id-1 {color: black;background-color: white;}#sk-container-id-1 pre{padding: 0;}#sk-container-id-1 div.sk-toggleable {background-color: white;}#sk-container-id-1 label.sk-toggleable__label {cursor: pointer;display: block;width: 100%;margin-bottom: 0;padding: 0.3em;box-sizing: border-box;text-align: center;}#sk-container-id-1 label.sk-toggleable__label-arrow:before {content: \"▸\";float: left;margin-right: 0.25em;color: #696969;}#sk-container-id-1 label.sk-toggleable__label-arrow:hover:before {color: black;}#sk-container-id-1 div.sk-estimator:hover label.sk-toggleable__label-arrow:before {color: black;}#sk-container-id-1 div.sk-toggleable__content {max-height: 0;max-width: 0;overflow: hidden;text-align: left;background-color: #f0f8ff;}#sk-container-id-1 div.sk-toggleable__content pre {margin: 0.2em;color: black;border-radius: 0.25em;background-color: #f0f8ff;}#sk-container-id-1 input.sk-toggleable__control:checked~div.sk-toggleable__content {max-height: 200px;max-width: 100%;overflow: auto;}#sk-container-id-1 input.sk-toggleable__control:checked~label.sk-toggleable__label-arrow:before {content: \"▾\";}#sk-container-id-1 div.sk-estimator input.sk-toggleable__control:checked~label.sk-toggleable__label {background-color: #d4ebff;}#sk-container-id-1 div.sk-label input.sk-toggleable__control:checked~label.sk-toggleable__label {background-color: #d4ebff;}#sk-container-id-1 input.sk-hidden--visually {border: 0;clip: rect(1px 1px 1px 1px);clip: rect(1px, 1px, 1px, 1px);height: 1px;margin: -1px;overflow: hidden;padding: 0;position: absolute;width: 1px;}#sk-container-id-1 div.sk-estimator {font-family: monospace;background-color: #f0f8ff;border: 1px dotted black;border-radius: 0.25em;box-sizing: border-box;margin-bottom: 0.5em;}#sk-container-id-1 div.sk-estimator:hover {background-color: #d4ebff;}#sk-container-id-1 div.sk-parallel-item::after {content: \"\";width: 100%;border-bottom: 1px solid gray;flex-grow: 1;}#sk-container-id-1 div.sk-label:hover label.sk-toggleable__label {background-color: #d4ebff;}#sk-container-id-1 div.sk-serial::before {content: \"\";position: absolute;border-left: 1px solid gray;box-sizing: border-box;top: 0;bottom: 0;left: 50%;z-index: 0;}#sk-container-id-1 div.sk-serial {display: flex;flex-direction: column;align-items: center;background-color: white;padding-right: 0.2em;padding-left: 0.2em;position: relative;}#sk-container-id-1 div.sk-item {position: relative;z-index: 1;}#sk-container-id-1 div.sk-parallel {display: flex;align-items: stretch;justify-content: center;background-color: white;position: relative;}#sk-container-id-1 div.sk-item::before, #sk-container-id-1 div.sk-parallel-item::before {content: \"\";position: absolute;border-left: 1px solid gray;box-sizing: border-box;top: 0;bottom: 0;left: 50%;z-index: -1;}#sk-container-id-1 div.sk-parallel-item {display: flex;flex-direction: column;z-index: 1;position: relative;background-color: white;}#sk-container-id-1 div.sk-parallel-item:first-child::after {align-self: flex-end;width: 50%;}#sk-container-id-1 div.sk-parallel-item:last-child::after {align-self: flex-start;width: 50%;}#sk-container-id-1 div.sk-parallel-item:only-child::after {width: 0;}#sk-container-id-1 div.sk-dashed-wrapped {border: 1px dashed gray;margin: 0 0.4em 0.5em 0.4em;box-sizing: border-box;padding-bottom: 0.4em;background-color: white;}#sk-container-id-1 div.sk-label label {font-family: monospace;font-weight: bold;display: inline-block;line-height: 1.2em;}#sk-container-id-1 div.sk-label-container {text-align: center;}#sk-container-id-1 div.sk-container {/* jupyter's `normalize.less` sets `[hidden] { display: none; }` but bootstrap.min.css set `[hidden] { display: none !important; }` so we also need the `!important` here to be able to override the default hidden behavior on the sphinx rendered scikit-learn.org. See: https://github.com/scikit-learn/scikit-learn/issues/21755 */display: inline-block !important;position: relative;}#sk-container-id-1 div.sk-text-repr-fallback {display: none;}</style><div id=\"sk-container-id-1\" class=\"sk-top-container\"><div class=\"sk-text-repr-fallback\"><pre>NeuralNetworkClassifier(batch_size=128)</pre><b>In a Jupyter environment, please rerun this cell to show the HTML representation or trust the notebook. <br />On GitHub, the HTML representation is unable to render, please try loading this page with nbviewer.org.</b></div><div class=\"sk-container\" hidden><div class=\"sk-item\"><div class=\"sk-estimator sk-toggleable\"><input class=\"sk-toggleable__control sk-hidden--visually\" id=\"sk-estimator-id-1\" type=\"checkbox\" checked><label for=\"sk-estimator-id-1\" class=\"sk-toggleable__label sk-toggleable__label-arrow\">NeuralNetworkClassifier</label><div class=\"sk-toggleable__content\"><pre>NeuralNetworkClassifier(batch_size=128)</pre></div></div></div></div></div>"
      ],
      "text/plain": [
       "NeuralNetworkClassifier(batch_size=128)"
      ]
     },
     "execution_count": 6,
     "metadata": {},
     "output_type": "execute_result"
    }
   ],
   "source": [
    "from model import nn_model\n",
    "import evaluation as eval\n",
    "model = nn_model.NeuralNetworkClassifier(batch_size = 128)\n",
    "model.fit(train_data.feature, train_data.label)"
   ]
  },
  {
   "cell_type": "code",
   "execution_count": 7,
   "metadata": {},
   "outputs": [
    {
     "data": {
      "text/plain": [
       "{'Accuracy': 0.9999153806711321,\n",
       " 'Precision': 0.9928415191887056,\n",
       " 'Recall': 0.9987997599519904,\n",
       " 'MCC': 0.9957735335277492,\n",
       " 'F1_Score': 0.9958117271639411,\n",
       " 'AUC': 0.9999994039612538,\n",
       " 'Average Precision': 0.9999426882246032,\n",
       " 'confusion_matrix': array([[982611,     72],\n",
       "        [    12,   9986]])}"
      ]
     },
     "execution_count": 7,
     "metadata": {},
     "output_type": "execute_result"
    }
   ],
   "source": [
    "# train_data(无marked_neg_index)\n",
    "predprob = model.predict_proba(train_data.feature)\n",
    "eval.evaluate(train_data.label, predprob, verbose = False)"
   ]
  },
  {
   "cell_type": "code",
   "execution_count": 8,
   "metadata": {},
   "outputs": [
    {
     "name": "stderr",
     "output_type": "stream",
     "text": [
      "/data/huggs/nwt/SpaProx/evaluation.py:442: RuntimeWarning: invalid value encountered in long_scalars\n",
      "  Recall = TP / (TP + FN)\n",
      "/home/huggs/anaconda3/envs/rapids_nwt/lib/python3.8/site-packages/sklearn/metrics/_ranking.py:1029: UndefinedMetricWarning: No positive samples in y_true, true positive value should be meaningless\n",
      "  warnings.warn(\n",
      "/home/huggs/anaconda3/envs/rapids_nwt/lib/python3.8/site-packages/sklearn/metrics/_ranking.py:891: UserWarning: No positive class found in y_true, recall is set to one for all thresholds.\n",
      "  warnings.warn(\n",
      "/home/huggs/anaconda3/envs/rapids_nwt/lib/python3.8/site-packages/sklearn/metrics/_ranking.py:891: UserWarning: No positive class found in y_true, recall is set to one for all thresholds.\n",
      "  warnings.warn(\n"
     ]
    },
    {
     "data": {
      "text/plain": [
       "{'Accuracy': 0.7340370882906198,\n",
       " 'Precision': 0.0,\n",
       " 'Recall': nan,\n",
       " 'MCC': 0.0,\n",
       " 'F1_Score': nan,\n",
       " 'AUC': nan,\n",
       " 'Average Precision': -0.0,\n",
       " 'confusion_matrix': array([[980239, 355169],\n",
       "        [     0,      0]])}"
      ]
     },
     "execution_count": 8,
     "metadata": {},
     "output_type": "execute_result"
    }
   ],
   "source": [
    "# marked_neg_index\n",
    "predprob = model.predict_proba(marked_feature)\n",
    "eval.evaluate(marked_label, predprob, verbose = False)"
   ]
  },
  {
   "cell_type": "code",
   "execution_count": 9,
   "metadata": {},
   "outputs": [
    {
     "data": {
      "text/plain": [
       "{'Accuracy': 0.843617879730466,\n",
       " 'Precision': 0.013358861668334712,\n",
       " 'Recall': 1.0,\n",
       " 'MCC': 0.10613831444963816,\n",
       " 'F1_Score': 0.026365510133974583,\n",
       " 'AUC': 0.9610026235317097,\n",
       " 'Average Precision': 0.030547853556984434,\n",
       " 'confusion_matrix': array([[122010,  22674],\n",
       "        [     0,    307]])}"
      ]
     },
     "execution_count": 9,
     "metadata": {},
     "output_type": "execute_result"
    }
   ],
   "source": [
    "# 全部test_data\n",
    "predprob = model.predict_proba(test_data.feature)\n",
    "eval.evaluate(test_data.label, predprob, verbose = False)"
   ]
  },
  {
   "cell_type": "code",
   "execution_count": 10,
   "metadata": {},
   "outputs": [],
   "source": [
    "with cp.cuda.Device(GPU_ID):\n",
    "    pos_index, neg_index, marked_neg_index = imb.eliminate_BD_neg(test_data.feature, test_data.label, k = 20)\n",
    "    mempool.free_all_blocks()\n",
    "    pinned_mempool.free_all_blocks()\n",
    "    marked_neg_index = cp.asnumpy(marked_neg_index)"
   ]
  },
  {
   "cell_type": "code",
   "execution_count": 11,
   "metadata": {},
   "outputs": [],
   "source": [
    "test_data.pop(marked_neg_index)\n",
    "test_data.mirror_copy()\n",
    "test_data.get_feature()\n",
    "test_data.get_label()"
   ]
  },
  {
   "cell_type": "code",
   "execution_count": 12,
   "metadata": {},
   "outputs": [
    {
     "data": {
      "text/plain": [
       "{'Accuracy': 0.9979214989306263,\n",
       " 'Precision': 0.8989751098096632,\n",
       " 'Recall': 1.0,\n",
       " 'MCC': 0.9471385211978792,\n",
       " 'F1_Score': 0.9468003084040092,\n",
       " 'AUC': 0.9995627553426323,\n",
       " 'Average Precision': 0.9574144760202657,\n",
       " 'confusion_matrix': array([[32514,    69],\n",
       "        [    0,   614]])}"
      ]
     },
     "execution_count": 12,
     "metadata": {},
     "output_type": "execute_result"
    }
   ],
   "source": [
    "# test_data(去除marked_neg_index)\n",
    "predprob = model.predict_proba(test_data.feature)\n",
    "eval.evaluate(test_data.label, predprob, verbose = True)"
   ]
  },
  {
   "attachments": {},
   "cell_type": "markdown",
   "metadata": {},
   "source": [
    "使用全部数据训练：所有样本预测成负样本\n",
    "使用marked_neg_index方法：选择后的训练样本训练模型，能够很好的预测选择后的训练样本和测试样本，但是对于marked_neg_index的样本（训练和预测）预测很差"
   ]
  },
  {
   "attachments": {},
   "cell_type": "markdown",
   "metadata": {},
   "source": [
    "可以调整k，看上面marked_neg_index一例，大部分样本都能预测对，还可以调整"
   ]
  }
 ],
 "metadata": {
  "kernelspec": {
   "display_name": "rapids_nwt",
   "language": "python",
   "name": "python3"
  },
  "language_info": {
   "codemirror_mode": {
    "name": "ipython",
    "version": 3
   },
   "file_extension": ".py",
   "mimetype": "text/x-python",
   "name": "python",
   "nbconvert_exporter": "python",
   "pygments_lexer": "ipython3",
   "version": "3.8.16"
  },
  "orig_nbformat": 4,
  "vscode": {
   "interpreter": {
    "hash": "198ad0f564c278d9c9ad4584164cf2e9cb4df22c232c6a536452a570fa414b03"
   }
  }
 },
 "nbformat": 4,
 "nbformat_minor": 2
}
