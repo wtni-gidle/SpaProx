{
 "cells": [
  {
   "cell_type": "code",
   "execution_count": 1,
   "metadata": {},
   "outputs": [
    {
     "name": "stderr",
     "output_type": "stream",
     "text": [
      "d:\\anaconda3\\envs\\scanpy\\lib\\site-packages\\tqdm\\auto.py:22: TqdmWarning: IProgress not found. Please update jupyter and ipywidgets. See https://ipywidgets.readthedocs.io/en/stable/user_install.html\n",
      "  from .autonotebook import tqdm as notebook_tqdm\n"
     ]
    }
   ],
   "source": [
    "import os\n",
    "os.chdir(\"..\")\n",
    "import scanpy as sc\n",
    "import numpy as np\n",
    "import datasets as DS\n",
    "import pickle\n",
    "import model\n",
    "import evaluation as eval"
   ]
  },
  {
   "cell_type": "markdown",
   "metadata": {},
   "source": [
    "数据预处理"
   ]
  },
  {
   "cell_type": "code",
   "execution_count": 2,
   "metadata": {},
   "outputs": [
    {
     "name": "stderr",
     "output_type": "stream",
     "text": [
      "d:\\anaconda3\\envs\\scanpy\\lib\\site-packages\\anndata\\_core\\anndata.py:1830: UserWarning: Variable names are not unique. To make them unique, call `.var_names_make_unique`.\n",
      "  utils.warn_names_duplicates(\"var\")\n"
     ]
    }
   ],
   "source": [
    "adata_ref = sc.read_visium(path = \"data/Human_DLPFC_151673/\")\n",
    "adata_ref.var_names_make_unique()\n",
    "adata_ref.var[\"mt\"] = adata_ref.var_names.str.startswith(\"MT-\")\n",
    "sc.pp.calculate_qc_metrics(adata_ref, qc_vars = [\"mt\"], inplace = True)\n",
    "sc.pp.filter_genes(adata_ref, min_cells = 3)"
   ]
  },
  {
   "cell_type": "code",
   "execution_count": 3,
   "metadata": {},
   "outputs": [
    {
     "name": "stderr",
     "output_type": "stream",
     "text": [
      "d:\\anaconda3\\envs\\scanpy\\lib\\site-packages\\anndata\\_core\\anndata.py:1830: UserWarning: Variable names are not unique. To make them unique, call `.var_names_make_unique`.\n",
      "  utils.warn_names_duplicates(\"var\")\n"
     ]
    }
   ],
   "source": [
    "adata_q = sc.read_visium(path = \"data/Human_DLPFC_151676/\")\n",
    "adata_q.var_names_make_unique()\n",
    "adata_q.var[\"mt\"] = adata_q.var_names.str.startswith(\"MT-\")\n",
    "sc.pp.calculate_qc_metrics(adata_q, qc_vars = [\"mt\"], inplace = True)\n",
    "sc.pp.filter_genes(adata_q, min_cells = 3)"
   ]
  },
  {
   "cell_type": "code",
   "execution_count": 4,
   "metadata": {},
   "outputs": [],
   "source": [
    "def prefilter_specialgenes(adata):\n",
    "    id_tmp1 = np.asarray([not str(name).startswith(\"ERCC\") for name in adata.var_names], dtype = bool)\n",
    "    id_tmp2 = np.asarray([not str(name).startswith(\"MT-\") for name in adata.var_names], dtype = bool)\n",
    "    id_tmp = np.logical_and(id_tmp1, id_tmp2)\n",
    "    adata._inplace_subset_var(id_tmp)\n",
    "prefilter_specialgenes(adata_ref)\n",
    "prefilter_specialgenes(adata_q)"
   ]
  },
  {
   "cell_type": "code",
   "execution_count": 5,
   "metadata": {},
   "outputs": [
    {
     "name": "stderr",
     "output_type": "stream",
     "text": [
      "Loading required package: ggplot2\n",
      "Loading required package: patchwork\n"
     ]
    }
   ],
   "source": [
    "DS.adata2seurat(adata_ref, \"human_DLPFC\")\n",
    "! Rscript spagene.R human_DLPFC 300\n",
    "spagene1 = DS.find_spa(\"human_DLPFC\" + \"/spagene.txt\")"
   ]
  },
  {
   "cell_type": "code",
   "execution_count": 6,
   "metadata": {},
   "outputs": [
    {
     "name": "stderr",
     "output_type": "stream",
     "text": [
      "Loading required package: ggplot2\n",
      "Loading required package: patchwork\n"
     ]
    }
   ],
   "source": [
    "DS.adata2seurat(adata_q, \"human_DLPFC\")\n",
    "! Rscript spagene.R human_DLPFC 300\n",
    "spagene2 = DS.find_spa(\"human_DLPFC\" + \"/spagene.txt\")"
   ]
  },
  {
   "cell_type": "code",
   "execution_count": 7,
   "metadata": {},
   "outputs": [],
   "source": [
    "spagene = list(set(spagene1) & set(spagene2))"
   ]
  },
  {
   "cell_type": "code",
   "execution_count": 11,
   "metadata": {},
   "outputs": [],
   "source": [
    "with open(\"human_DLPFC/spagene.pkl\", \"wb\") as f:\n",
    "    pickle.dump(spagene, f)"
   ]
  },
  {
   "cell_type": "markdown",
   "metadata": {},
   "source": [
    "ldp_train"
   ]
  },
  {
   "cell_type": "code",
   "execution_count": null,
   "metadata": {},
   "outputs": [],
   "source": [
    "ldp_train = DS.LabeledDataUnit(adata_ref, 2.0)\n",
    "ldp_train.get_count(gene = spagene)\n",
    "ldp_train.calc_distance()\n",
    "ldp_train.get_data()"
   ]
  },
  {
   "cell_type": "code",
   "execution_count": null,
   "metadata": {},
   "outputs": [],
   "source": [
    "from imb_torch2 import knn, to_device\n",
    "_, _, BD_neg_index = knn(ldp_train, k = 20)\n",
    "ldp_train.pop(BD_neg_index)\n",
    "ldp_train.mirror_copy()"
   ]
  },
  {
   "cell_type": "markdown",
   "metadata": {},
   "source": [
    "将ldp_train转移到cuda上，并包装成dataset"
   ]
  },
  {
   "cell_type": "code",
   "execution_count": null,
   "metadata": {},
   "outputs": [],
   "source": [
    "ldp_train = to_device(ldp_train, device = 0)\n",
    "train_dataset = DS.LabeledDataset(ldp_train)"
   ]
  },
  {
   "cell_type": "markdown",
   "metadata": {},
   "source": [
    "训练"
   ]
  },
  {
   "cell_type": "code",
   "execution_count": null,
   "metadata": {},
   "outputs": [],
   "source": [
    "mlp = model.MLP(len(spagene)*2, [512, 64, 16])"
   ]
  },
  {
   "cell_type": "code",
   "execution_count": null,
   "metadata": {},
   "outputs": [],
   "source": [
    "nnmodel = model.NNClassifier(model = mlp, gpu_id = 0, early_stopping=True)\n",
    "nnmodel.fit(train_dataset)"
   ]
  },
  {
   "cell_type": "markdown",
   "metadata": {},
   "source": [
    "ldp_test"
   ]
  },
  {
   "cell_type": "code",
   "execution_count": null,
   "metadata": {},
   "outputs": [],
   "source": [
    "ldp_test = DS.LabeledDataUnit(adata_q, 2.0)\n",
    "ldp_test.get_count(gene = spagene)\n",
    "ldp_test.calc_distance()\n",
    "ldp_test.get_data()"
   ]
  },
  {
   "cell_type": "markdown",
   "metadata": {},
   "source": [
    "去除BD_neg_index"
   ]
  },
  {
   "cell_type": "code",
   "execution_count": null,
   "metadata": {},
   "outputs": [],
   "source": [
    "from copy import deepcopy"
   ]
  },
  {
   "cell_type": "code",
   "execution_count": null,
   "metadata": {},
   "outputs": [],
   "source": [
    "_, _, BD_neg_index = knn(ldp_test, k = 20)\n",
    "ldp_test_1 = deepcopy(ldp_test)\n",
    "ldp_test_1.pop(BD_neg_index)\n",
    "ldp_test_1 = to_device(ldp_test_1, device = 0)\n",
    "test_dataset = DS.LabeledDataset(ldp_test_1)\n",
    "pred, true = nnmodel.predict(test_dataset)\n",
    "eval.evaluate(true, pred, verbose = True)"
   ]
  },
  {
   "cell_type": "code",
   "execution_count": null,
   "metadata": {},
   "outputs": [],
   "source": [
    "ldp_test.update(BD_neg_index)\n",
    "ldp_test = to_device(ldp_test, device = 0)\n",
    "BD_dataset = DS.LabeledDataset(ldp_test)\n",
    "pred, true = nnmodel.predict(BD_dataset)\n",
    "eval.evaluate(true, pred, verbose = True)"
   ]
  }
 ],
 "metadata": {
  "kernelspec": {
   "display_name": "scanpy",
   "language": "python",
   "name": "python3"
  },
  "language_info": {
   "codemirror_mode": {
    "name": "ipython",
    "version": 3
   },
   "file_extension": ".py",
   "mimetype": "text/x-python",
   "name": "python",
   "nbconvert_exporter": "python",
   "pygments_lexer": "ipython3",
   "version": "3.9.13"
  },
  "orig_nbformat": 4
 },
 "nbformat": 4,
 "nbformat_minor": 2
}
