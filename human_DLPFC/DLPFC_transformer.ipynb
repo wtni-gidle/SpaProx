{
 "cells": [
  {
   "cell_type": "code",
   "execution_count": 1,
   "metadata": {},
   "outputs": [
    {
     "name": "stderr",
     "output_type": "stream",
     "text": [
      "d:\\anaconda3\\envs\\scanpy\\lib\\site-packages\\tqdm\\auto.py:22: TqdmWarning: IProgress not found. Please update jupyter and ipywidgets. See https://ipywidgets.readthedocs.io/en/stable/user_install.html\n",
      "  from .autonotebook import tqdm as notebook_tqdm\n"
     ]
    }
   ],
   "source": [
    "import os\n",
    "os.chdir(\"..\")\n",
    "import scanpy as sc\n",
    "import numpy as np\n",
    "import datasets as DS\n",
    "import pickle\n",
    "from model import nn_model2\n",
    "import evaluation as eval"
   ]
  },
  {
   "cell_type": "markdown",
   "metadata": {},
   "source": [
    "数据预处理"
   ]
  },
  {
   "cell_type": "code",
   "execution_count": 2,
   "metadata": {},
   "outputs": [
    {
     "name": "stderr",
     "output_type": "stream",
     "text": [
      "d:\\anaconda3\\envs\\scanpy\\lib\\site-packages\\anndata\\_core\\anndata.py:1830: UserWarning: Variable names are not unique. To make them unique, call `.var_names_make_unique`.\n",
      "  utils.warn_names_duplicates(\"var\")\n"
     ]
    }
   ],
   "source": [
    "adata_ref = sc.read_visium(path = \"data/Human_DLPFC_151673/\")\n",
    "adata_ref.var_names_make_unique()\n",
    "adata_ref.var[\"mt\"] = adata_ref.var_names.str.startswith(\"MT-\")\n",
    "sc.pp.calculate_qc_metrics(adata_ref, qc_vars = [\"mt\"], inplace = True)\n",
    "sc.pp.filter_genes(adata_ref, min_cells = 3)"
   ]
  },
  {
   "cell_type": "code",
   "execution_count": 3,
   "metadata": {},
   "outputs": [
    {
     "name": "stderr",
     "output_type": "stream",
     "text": [
      "d:\\anaconda3\\envs\\scanpy\\lib\\site-packages\\anndata\\_core\\anndata.py:1830: UserWarning: Variable names are not unique. To make them unique, call `.var_names_make_unique`.\n",
      "  utils.warn_names_duplicates(\"var\")\n"
     ]
    }
   ],
   "source": [
    "adata_q = sc.read_visium(path = \"data/Human_DLPFC_151676/\")\n",
    "adata_q.var_names_make_unique()\n",
    "adata_q.var[\"mt\"] = adata_q.var_names.str.startswith(\"MT-\")\n",
    "sc.pp.calculate_qc_metrics(adata_q, qc_vars = [\"mt\"], inplace = True)\n",
    "sc.pp.filter_genes(adata_q, min_cells = 3)"
   ]
  },
  {
   "cell_type": "code",
   "execution_count": 4,
   "metadata": {},
   "outputs": [],
   "source": [
    "def prefilter_specialgenes(adata):\n",
    "    id_tmp1 = np.asarray([not str(name).startswith(\"ERCC\") for name in adata.var_names], dtype = bool)\n",
    "    id_tmp2 = np.asarray([not str(name).startswith(\"MT-\") for name in adata.var_names], dtype = bool)\n",
    "    id_tmp = np.logical_and(id_tmp1, id_tmp2)\n",
    "    adata._inplace_subset_var(id_tmp)\n",
    "prefilter_specialgenes(adata_ref)\n",
    "prefilter_specialgenes(adata_q)"
   ]
  },
  {
   "cell_type": "code",
   "execution_count": 5,
   "metadata": {},
   "outputs": [],
   "source": [
    "with open(\"human_DLPFC/spagene.pkl\", \"rb\") as f:\n",
    "    spagene = pickle.load(f)"
   ]
  },
  {
   "cell_type": "code",
   "execution_count": 6,
   "metadata": {},
   "outputs": [
    {
     "name": "stderr",
     "output_type": "stream",
     "text": [
      "C:\\Users\\我只是来搞笑的\\AppData\\Roaming\\Python\\Python39\\site-packages\\scanpy-1.9.1-py3.9.egg\\scanpy\\plotting\\_utils.py:314: UserWarning: Matplotlib is currently using agg, which is a non-GUI backend, so cannot show the figure.\n",
      "  pl.show()\n"
     ]
    }
   ],
   "source": [
    "import pandas as pd\n",
    "ref = pd.read_csv(\"data/Human_DLPFC_151673/truth.txt\", sep = '\\t', header = None, index_col = 0)\n",
    "ref.columns = ['Ground Truth']\n",
    "adata_ref.obs['clusters'] = ref.loc[adata_ref.obs_names, 'Ground Truth']\n",
    "adata_ref = adata_ref[~adata_ref.obs[\"clusters\"].isna(), ].copy()"
   ]
  },
  {
   "cell_type": "code",
   "execution_count": 7,
   "metadata": {},
   "outputs": [
    {
     "name": "stderr",
     "output_type": "stream",
     "text": [
      "C:\\Users\\我只是来搞笑的\\AppData\\Roaming\\Python\\Python39\\site-packages\\scanpy-1.9.1-py3.9.egg\\scanpy\\plotting\\_utils.py:314: UserWarning: Matplotlib is currently using agg, which is a non-GUI backend, so cannot show the figure.\n",
      "  pl.show()\n"
     ]
    }
   ],
   "source": [
    "import pandas as pd\n",
    "ref = pd.read_csv(\"data/Human_DLPFC_151676/truth.txt\", sep = '\\t', header = None, index_col = 0)\n",
    "ref.columns = ['Ground Truth']\n",
    "adata_q.obs['clusters'] = ref.loc[adata_q.obs_names, 'Ground Truth']\n",
    "adata_q = adata_q[~adata_q.obs[\"clusters\"].isna(), ].copy()"
   ]
  },
  {
   "cell_type": "code",
   "execution_count": 17,
   "metadata": {},
   "outputs": [
    {
     "data": {
      "text/plain": [
       "array([2, 0, 6, ..., 6, 5, 0], dtype=int8)"
      ]
     },
     "execution_count": 17,
     "metadata": {},
     "output_type": "execute_result"
    }
   ],
   "source": [
    "adata_q.obs[\"clusters\"].cat.codes.values"
   ]
  },
  {
   "cell_type": "code",
   "execution_count": 20,
   "metadata": {},
   "outputs": [
    {
     "data": {
      "text/plain": [
       "array([2, 0, 6, ..., 5, 6, 1], dtype=int8)"
      ]
     },
     "execution_count": 20,
     "metadata": {},
     "output_type": "execute_result"
    }
   ],
   "source": [
    "adata_ref.obs[\"clusters\"].cat.codes.values"
   ]
  },
  {
   "cell_type": "code",
   "execution_count": null,
   "metadata": {},
   "outputs": [],
   "source": [
    "from torch.utils.data import TensorDataset\n",
    "import torch\n",
    "from datasets.utils import preprocess\n",
    "adata_ref = preprocess(adata_ref, spagene)\n",
    "adata_q = preprocess(adata_q, spagene)\n",
    "\n",
    "feature = torch.as_tensor(adata_ref.to_df().values, device = \"cuda:0\").float()\n",
    "label = adata_ref.obs[\"clusters\"].cat.codes.values\n",
    "label = torch.as_tensor(label, device = \"cuda:0\").long()\n",
    "train_dataset = TensorDataset(feature, label)"
   ]
  },
  {
   "cell_type": "code",
   "execution_count": null,
   "metadata": {},
   "outputs": [],
   "source": [
    "feature = torch.as_tensor(adata_q.to_df().values, device = \"cuda:0\").float()\n",
    "label = adata_q.obs[\"clusters\"].cat.codes.values\n",
    "label = torch.as_tensor(label, device = \"cuda:0\").long()\n",
    "test_dataset = TensorDataset(feature, label)"
   ]
  },
  {
   "cell_type": "markdown",
   "metadata": {},
   "source": [
    "训练"
   ]
  },
  {
   "cell_type": "code",
   "execution_count": null,
   "metadata": {},
   "outputs": [],
   "source": [
    "model = nn_model2.NNClassifier(num_features = len(spagene)*2, hidden_sizes=[512, 64, 16], gpu_id = 0, early_stopping=True)\n",
    "model.fit(train_dataset)"
   ]
  },
  {
   "cell_type": "markdown",
   "metadata": {},
   "source": [
    "ldp_test"
   ]
  },
  {
   "cell_type": "code",
   "execution_count": null,
   "metadata": {},
   "outputs": [],
   "source": [
    "ldp_test = DS.LabeledDataUnit(adata_q, 2.0)\n",
    "ldp_test.get_count(gene = spagene)\n",
    "ldp_test.calc_distance()\n",
    "ldp_test.get_data()"
   ]
  },
  {
   "cell_type": "markdown",
   "metadata": {},
   "source": [
    "去除BD_neg_index"
   ]
  },
  {
   "cell_type": "code",
   "execution_count": null,
   "metadata": {},
   "outputs": [],
   "source": [
    "from copy import deepcopy"
   ]
  },
  {
   "cell_type": "code",
   "execution_count": null,
   "metadata": {},
   "outputs": [],
   "source": [
    "_, _, BD_neg_index = knn(ldp_test, k = 20)\n",
    "ldp_test_1 = deepcopy(ldp_test)\n",
    "ldp_test_1.pop(BD_neg_index)\n",
    "ldp_test_1 = to_device(ldp_test_1, device = 0)\n",
    "test_dataset = DS.Labeled(ldp_test_1)\n",
    "pred, true = model.predict(test_dataset)\n",
    "eval.evaluate(true, pred, verbose = True)"
   ]
  },
  {
   "cell_type": "code",
   "execution_count": null,
   "metadata": {},
   "outputs": [],
   "source": [
    "ldp_test.update(BD_neg_index)\n",
    "ldp_test = to_device(ldp_test, device = 0)\n",
    "BD_dataset = DS.LabeledDataset(ldp_test)\n",
    "pred, true = model.predict(BD_dataset)\n",
    "eval.evaluate(true, pred, verbose = True)"
   ]
  }
 ],
 "metadata": {
  "kernelspec": {
   "display_name": "scanpy",
   "language": "python",
   "name": "python3"
  },
  "language_info": {
   "codemirror_mode": {
    "name": "ipython",
    "version": 3
   },
   "file_extension": ".py",
   "mimetype": "text/x-python",
   "name": "python",
   "nbconvert_exporter": "python",
   "pygments_lexer": "ipython3",
   "version": "3.9.13"
  },
  "orig_nbformat": 4
 },
 "nbformat": 4,
 "nbformat_minor": 2
}
