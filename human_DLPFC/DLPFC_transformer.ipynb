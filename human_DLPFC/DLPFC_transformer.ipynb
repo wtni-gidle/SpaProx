{
 "cells": [
  {
   "cell_type": "code",
   "execution_count": 1,
   "metadata": {},
   "outputs": [
    {
     "name": "stderr",
     "output_type": "stream",
     "text": [
      "d:\\anaconda3\\envs\\scanpy\\lib\\site-packages\\tqdm\\auto.py:22: TqdmWarning: IProgress not found. Please update jupyter and ipywidgets. See https://ipywidgets.readthedocs.io/en/stable/user_install.html\n",
      "  from .autonotebook import tqdm as notebook_tqdm\n"
     ]
    }
   ],
   "source": [
    "import os\n",
    "os.chdir(\"..\")\n",
    "import scanpy as sc\n",
    "import numpy as np\n",
    "import datasets as DS\n",
    "import pickle\n",
    "from model import nn_model2\n",
    "import evaluation as eval"
   ]
  },
  {
   "cell_type": "markdown",
   "metadata": {},
   "source": [
    "数据预处理"
   ]
  },
  {
   "cell_type": "code",
   "execution_count": 2,
   "metadata": {},
   "outputs": [
    {
     "name": "stderr",
     "output_type": "stream",
     "text": [
      "d:\\anaconda3\\envs\\scanpy\\lib\\site-packages\\anndata\\_core\\anndata.py:1830: UserWarning: Variable names are not unique. To make them unique, call `.var_names_make_unique`.\n",
      "  utils.warn_names_duplicates(\"var\")\n"
     ]
    }
   ],
   "source": [
    "adata_ref = sc.read_visium(path = \"data/Human_DLPFC_151673/\")\n",
    "adata_ref.var_names_make_unique()\n",
    "adata_ref.var[\"mt\"] = adata_ref.var_names.str.startswith(\"MT-\")\n",
    "sc.pp.calculate_qc_metrics(adata_ref, qc_vars = [\"mt\"], inplace = True)\n",
    "sc.pp.filter_genes(adata_ref, min_cells = 3)"
   ]
  },
  {
   "cell_type": "code",
   "execution_count": 3,
   "metadata": {},
   "outputs": [
    {
     "name": "stderr",
     "output_type": "stream",
     "text": [
      "d:\\anaconda3\\envs\\scanpy\\lib\\site-packages\\anndata\\_core\\anndata.py:1830: UserWarning: Variable names are not unique. To make them unique, call `.var_names_make_unique`.\n",
      "  utils.warn_names_duplicates(\"var\")\n"
     ]
    }
   ],
   "source": [
    "adata_q = sc.read_visium(path = \"data/Human_DLPFC_151676/\")\n",
    "adata_q.var_names_make_unique()\n",
    "adata_q.var[\"mt\"] = adata_q.var_names.str.startswith(\"MT-\")\n",
    "sc.pp.calculate_qc_metrics(adata_q, qc_vars = [\"mt\"], inplace = True)\n",
    "sc.pp.filter_genes(adata_q, min_cells = 3)"
   ]
  },
  {
   "cell_type": "code",
   "execution_count": 4,
   "metadata": {},
   "outputs": [],
   "source": [
    "def prefilter_specialgenes(adata):\n",
    "    id_tmp1 = np.asarray([not str(name).startswith(\"ERCC\") for name in adata.var_names], dtype = bool)\n",
    "    id_tmp2 = np.asarray([not str(name).startswith(\"MT-\") for name in adata.var_names], dtype = bool)\n",
    "    id_tmp = np.logical_and(id_tmp1, id_tmp2)\n",
    "    adata._inplace_subset_var(id_tmp)\n",
    "prefilter_specialgenes(adata_ref)\n",
    "prefilter_specialgenes(adata_q)"
   ]
  },
  {
   "cell_type": "code",
   "execution_count": 5,
   "metadata": {},
   "outputs": [],
   "source": [
    "with open(\"human_DLPFC/spagene.pkl\", \"rb\") as f:\n",
    "    spagene = pickle.load(f)"
   ]
  },
  {
   "cell_type": "code",
   "execution_count": 6,
   "metadata": {},
   "outputs": [],
   "source": [
    "import pandas as pd\n",
    "ref = pd.read_csv(\"data/Human_DLPFC_151673/truth.txt\", sep = '\\t', header = None, index_col = 0)\n",
    "ref.columns = ['Ground Truth']\n",
    "adata_ref.obs['clusters'] = ref.loc[adata_ref.obs_names, 'Ground Truth']\n",
    "adata_ref = adata_ref[~adata_ref.obs[\"clusters\"].isna(), ].copy()"
   ]
  },
  {
   "cell_type": "code",
   "execution_count": 7,
   "metadata": {},
   "outputs": [],
   "source": [
    "import pandas as pd\n",
    "ref = pd.read_csv(\"data/Human_DLPFC_151676/truth.txt\", sep = '\\t', header = None, index_col = 0)\n",
    "ref.columns = ['Ground Truth']\n",
    "adata_q.obs['clusters'] = ref.loc[adata_q.obs_names, 'Ground Truth']\n",
    "adata_q = adata_q[~adata_q.obs[\"clusters\"].isna(), ].copy()"
   ]
  },
  {
   "cell_type": "code",
   "execution_count": 15,
   "metadata": {},
   "outputs": [
    {
     "data": {
      "text/plain": [
       "array([2, 0, 6, ..., 5, 6, 1], dtype=int8)"
      ]
     },
     "execution_count": 15,
     "metadata": {},
     "output_type": "execute_result"
    }
   ],
   "source": [
    "pd.Categorical(adata_ref.obs[\"clusters\"]).codes"
   ]
  },
  {
   "cell_type": "code",
   "execution_count": 8,
   "metadata": {},
   "outputs": [
    {
     "ename": "AttributeError",
     "evalue": "Can only use .cat accessor with a 'category' dtype",
     "output_type": "error",
     "traceback": [
      "\u001b[1;31m---------------------------------------------------------------------------\u001b[0m",
      "\u001b[1;31mAttributeError\u001b[0m                            Traceback (most recent call last)",
      "\u001b[1;32md:\\SpaProx\\human_DLPFC\\DLPFC_transformer.ipynb 单元格 9\u001b[0m in \u001b[0;36m8\n\u001b[0;32m      <a href='vscode-notebook-cell:/d%3A/SpaProx/human_DLPFC/DLPFC_transformer.ipynb#X31sZmlsZQ%3D%3D?line=4'>5</a>\u001b[0m adata_q \u001b[39m=\u001b[39m preprocess(adata_q, spagene)\n\u001b[0;32m      <a href='vscode-notebook-cell:/d%3A/SpaProx/human_DLPFC/DLPFC_transformer.ipynb#X31sZmlsZQ%3D%3D?line=6'>7</a>\u001b[0m \u001b[39m# feature = torch.as_tensor(adata_ref.to_df().values, device = \"cuda:0\").float()\u001b[39;00m\n\u001b[1;32m----> <a href='vscode-notebook-cell:/d%3A/SpaProx/human_DLPFC/DLPFC_transformer.ipynb#X31sZmlsZQ%3D%3D?line=7'>8</a>\u001b[0m label \u001b[39m=\u001b[39m adata_ref\u001b[39m.\u001b[39;49mobs[\u001b[39m\"\u001b[39;49m\u001b[39mclusters\u001b[39;49m\u001b[39m\"\u001b[39;49m]\u001b[39m.\u001b[39;49mcat\u001b[39m.\u001b[39mcodes\u001b[39m.\u001b[39mvalues\n",
      "File \u001b[1;32md:\\anaconda3\\envs\\scanpy\\lib\\site-packages\\pandas\\core\\generic.py:5902\u001b[0m, in \u001b[0;36mNDFrame.__getattr__\u001b[1;34m(self, name)\u001b[0m\n\u001b[0;32m   5895\u001b[0m \u001b[39mif\u001b[39;00m (\n\u001b[0;32m   5896\u001b[0m     name \u001b[39mnot\u001b[39;00m \u001b[39min\u001b[39;00m \u001b[39mself\u001b[39m\u001b[39m.\u001b[39m_internal_names_set\n\u001b[0;32m   5897\u001b[0m     \u001b[39mand\u001b[39;00m name \u001b[39mnot\u001b[39;00m \u001b[39min\u001b[39;00m \u001b[39mself\u001b[39m\u001b[39m.\u001b[39m_metadata\n\u001b[0;32m   5898\u001b[0m     \u001b[39mand\u001b[39;00m name \u001b[39mnot\u001b[39;00m \u001b[39min\u001b[39;00m \u001b[39mself\u001b[39m\u001b[39m.\u001b[39m_accessors\n\u001b[0;32m   5899\u001b[0m     \u001b[39mand\u001b[39;00m \u001b[39mself\u001b[39m\u001b[39m.\u001b[39m_info_axis\u001b[39m.\u001b[39m_can_hold_identifiers_and_holds_name(name)\n\u001b[0;32m   5900\u001b[0m ):\n\u001b[0;32m   5901\u001b[0m     \u001b[39mreturn\u001b[39;00m \u001b[39mself\u001b[39m[name]\n\u001b[1;32m-> 5902\u001b[0m \u001b[39mreturn\u001b[39;00m \u001b[39mobject\u001b[39;49m\u001b[39m.\u001b[39;49m\u001b[39m__getattribute__\u001b[39;49m(\u001b[39mself\u001b[39;49m, name)\n",
      "File \u001b[1;32md:\\anaconda3\\envs\\scanpy\\lib\\site-packages\\pandas\\core\\accessor.py:182\u001b[0m, in \u001b[0;36mCachedAccessor.__get__\u001b[1;34m(self, obj, cls)\u001b[0m\n\u001b[0;32m    179\u001b[0m \u001b[39mif\u001b[39;00m obj \u001b[39mis\u001b[39;00m \u001b[39mNone\u001b[39;00m:\n\u001b[0;32m    180\u001b[0m     \u001b[39m# we're accessing the attribute of the class, i.e., Dataset.geo\u001b[39;00m\n\u001b[0;32m    181\u001b[0m     \u001b[39mreturn\u001b[39;00m \u001b[39mself\u001b[39m\u001b[39m.\u001b[39m_accessor\n\u001b[1;32m--> 182\u001b[0m accessor_obj \u001b[39m=\u001b[39m \u001b[39mself\u001b[39;49m\u001b[39m.\u001b[39;49m_accessor(obj)\n\u001b[0;32m    183\u001b[0m \u001b[39m# Replace the property with the accessor object. Inspired by:\u001b[39;00m\n\u001b[0;32m    184\u001b[0m \u001b[39m# https://www.pydanny.com/cached-property.html\u001b[39;00m\n\u001b[0;32m    185\u001b[0m \u001b[39m# We need to use object.__setattr__ because we overwrite __setattr__ on\u001b[39;00m\n\u001b[0;32m    186\u001b[0m \u001b[39m# NDFrame\u001b[39;00m\n\u001b[0;32m    187\u001b[0m \u001b[39mobject\u001b[39m\u001b[39m.\u001b[39m\u001b[39m__setattr__\u001b[39m(obj, \u001b[39mself\u001b[39m\u001b[39m.\u001b[39m_name, accessor_obj)\n",
      "File \u001b[1;32md:\\anaconda3\\envs\\scanpy\\lib\\site-packages\\pandas\\core\\arrays\\categorical.py:2849\u001b[0m, in \u001b[0;36mCategoricalAccessor.__init__\u001b[1;34m(self, data)\u001b[0m\n\u001b[0;32m   2848\u001b[0m \u001b[39mdef\u001b[39;00m \u001b[39m__init__\u001b[39m(\u001b[39mself\u001b[39m, data) \u001b[39m-\u001b[39m\u001b[39m>\u001b[39m \u001b[39mNone\u001b[39;00m:\n\u001b[1;32m-> 2849\u001b[0m     \u001b[39mself\u001b[39;49m\u001b[39m.\u001b[39;49m_validate(data)\n\u001b[0;32m   2850\u001b[0m     \u001b[39mself\u001b[39m\u001b[39m.\u001b[39m_parent \u001b[39m=\u001b[39m data\u001b[39m.\u001b[39mvalues\n\u001b[0;32m   2851\u001b[0m     \u001b[39mself\u001b[39m\u001b[39m.\u001b[39m_index \u001b[39m=\u001b[39m data\u001b[39m.\u001b[39mindex\n",
      "File \u001b[1;32md:\\anaconda3\\envs\\scanpy\\lib\\site-packages\\pandas\\core\\arrays\\categorical.py:2858\u001b[0m, in \u001b[0;36mCategoricalAccessor._validate\u001b[1;34m(data)\u001b[0m\n\u001b[0;32m   2855\u001b[0m \u001b[39m@staticmethod\u001b[39m\n\u001b[0;32m   2856\u001b[0m \u001b[39mdef\u001b[39;00m \u001b[39m_validate\u001b[39m(data):\n\u001b[0;32m   2857\u001b[0m     \u001b[39mif\u001b[39;00m \u001b[39mnot\u001b[39;00m is_categorical_dtype(data\u001b[39m.\u001b[39mdtype):\n\u001b[1;32m-> 2858\u001b[0m         \u001b[39mraise\u001b[39;00m \u001b[39mAttributeError\u001b[39;00m(\u001b[39m\"\u001b[39m\u001b[39mCan only use .cat accessor with a \u001b[39m\u001b[39m'\u001b[39m\u001b[39mcategory\u001b[39m\u001b[39m'\u001b[39m\u001b[39m dtype\u001b[39m\u001b[39m\"\u001b[39m)\n",
      "\u001b[1;31mAttributeError\u001b[0m: Can only use .cat accessor with a 'category' dtype"
     ]
    }
   ],
   "source": [
    "from torch.utils.data import TensorDataset\n",
    "import torch\n",
    "from datasets.utils import preprocess\n",
    "adata_ref = preprocess(adata_ref, spagene)\n",
    "adata_q = preprocess(adata_q, spagene)\n",
    "\n",
    "feature = torch.as_tensor(adata_ref.to_df().values, device = \"cuda:0\").float()\n",
    "feature = feature.view(feature.shape[0], feature.shape[1], 1)\n",
    "label = pd.Categorical(adata_ref.obs[\"clusters\"]).codes\n",
    "label = torch.as_tensor(label, device = \"cuda:0\").long()\n",
    "train_dataset = TensorDataset(feature, label)"
   ]
  },
  {
   "cell_type": "code",
   "execution_count": null,
   "metadata": {},
   "outputs": [],
   "source": [
    "feature = torch.as_tensor(adata_q.to_df().values, device = \"cuda:0\").float()\n",
    "feature = feature.view(feature.shape[0], feature.shape[1], 1)\n",
    "label = pd.Categorical(adata_q.obs[\"clusters\"]).codes\n",
    "label = torch.as_tensor(label, device = \"cuda:0\").long()\n",
    "test_dataset = TensorDataset(feature, label)"
   ]
  },
  {
   "cell_type": "markdown",
   "metadata": {},
   "source": [
    "训练"
   ]
  },
  {
   "cell_type": "code",
   "execution_count": null,
   "metadata": {},
   "outputs": [],
   "source": [
    "from model.models import Customformer\n",
    "model = nn_model2.NNClassifier(num_features = len(spagene)*2, hidden_sizes=[512, 64, 16], gpu_id = 0, early_stopping=True)\n",
    "model.model = Customformer(64, 4, 0.02, 0.02, 64*4, len(spagene), num_classes=7)\n",
    "model.fit(train_dataset)"
   ]
  },
  {
   "cell_type": "code",
   "execution_count": null,
   "metadata": {},
   "outputs": [],
   "source": [
    "import evaluation as eval\n",
    "pred, true = model.predict(test_dataset)\n",
    "eval.evaluate(true, pred, verbose = True)"
   ]
  }
 ],
 "metadata": {
  "kernelspec": {
   "display_name": "scanpy",
   "language": "python",
   "name": "python3"
  },
  "language_info": {
   "codemirror_mode": {
    "name": "ipython",
    "version": 3
   },
   "file_extension": ".py",
   "mimetype": "text/x-python",
   "name": "python",
   "nbconvert_exporter": "python",
   "pygments_lexer": "ipython3",
   "version": "3.9.13"
  },
  "orig_nbformat": 4
 },
 "nbformat": 4,
 "nbformat_minor": 2
}
