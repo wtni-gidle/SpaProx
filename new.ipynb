{
 "cells": [
  {
   "cell_type": "code",
   "execution_count": 1,
   "metadata": {},
   "outputs": [
    {
     "name": "stderr",
     "output_type": "stream",
     "text": [
      "d:\\anaconda3\\envs\\scanpy\\lib\\site-packages\\anndata\\_core\\anndata.py:1830: UserWarning: Variable names are not unique. To make them unique, call `.var_names_make_unique`.\n",
      "  utils.warn_names_duplicates(\"var\")\n"
     ]
    }
   ],
   "source": [
    "import scanpy as sc\n",
    "adata = sc.datasets.visium_sge(sample_id = \"V1_Mouse_Brain_Sagittal_Anterior\")\n",
    "adata.var_names_make_unique()\n",
    "adata.var[\"mt\"] = adata.var_names.str.startswith(\"mt-\")\n",
    "sc.pp.calculate_qc_metrics(adata, qc_vars = [\"mt\"], inplace = True)\n",
    "# 过滤\n",
    "sc.pp.filter_genes(adata, min_counts = 10)"
   ]
  },
  {
   "cell_type": "code",
   "execution_count": 2,
   "metadata": {},
   "outputs": [
    {
     "name": "stderr",
     "output_type": "stream",
     "text": [
      "d:\\anaconda3\\envs\\scanpy\\lib\\site-packages\\tqdm\\auto.py:22: TqdmWarning: IProgress not found. Please update jupyter and ipywidgets. See https://ipywidgets.readthedocs.io/en/stable/user_install.html\n",
      "  from .autonotebook import tqdm as notebook_tqdm\n",
      "Loading required package: ggplot2\n",
      "Loading required package: patchwork\n"
     ]
    }
   ],
   "source": [
    "import datasets as DS\n",
    "DS.adata2seurat(adata, \"mouse_brain_sagittal_anterior\")\n",
    "! Rscript spagene.R mouse_brain_sagittal_anterior 200\n",
    "spagene = DS.find_spa(\"mouse_brain_sagittal_anterior\" + \"/spagene.txt\")"
   ]
  },
  {
   "cell_type": "code",
   "execution_count": 3,
   "metadata": {},
   "outputs": [],
   "source": [
    "import datasets as DS\n",
    "ds = DS.LabeledDataUnit(adata, 1.0)"
   ]
  },
  {
   "cell_type": "code",
   "execution_count": 4,
   "metadata": {},
   "outputs": [],
   "source": [
    "ds.get_count(gene = spagene)\n",
    "ds.calc_distance()\n",
    "ds.get_data()\n",
    "#feature = ds.get_feature(copy = True)"
   ]
  },
  {
   "cell_type": "code",
   "execution_count": 6,
   "metadata": {},
   "outputs": [
    {
     "ename": "KeyboardInterrupt",
     "evalue": "",
     "output_type": "error",
     "traceback": [
      "\u001b[1;31m---------------------------------------------------------------------------\u001b[0m",
      "\u001b[1;31mKeyboardInterrupt\u001b[0m                         Traceback (most recent call last)",
      "\u001b[1;32md:\\SpaProx\\new.ipynb 单元格 5\u001b[0m in \u001b[0;36m2\n\u001b[0;32m      <a href='vscode-notebook-cell:/d%3A/SpaProx/new.ipynb#W6sZmlsZQ%3D%3D?line=0'>1</a>\u001b[0m \u001b[39mfrom\u001b[39;00m \u001b[39mimb_torch2\u001b[39;00m \u001b[39mimport\u001b[39;00m eliminate_BD_neg\n\u001b[1;32m----> <a href='vscode-notebook-cell:/d%3A/SpaProx/new.ipynb#W6sZmlsZQ%3D%3D?line=1'>2</a>\u001b[0m a,b,c\u001b[39m=\u001b[39meliminate_BD_neg(ds, device \u001b[39m=\u001b[39;49m \u001b[39m-\u001b[39;49m\u001b[39m1\u001b[39;49m)\n",
      "File \u001b[1;32md:\\SpaProx\\imb_torch2.py:98\u001b[0m, in \u001b[0;36meliminate_BD_neg\u001b[1;34m(ldp, k, batch_size, device)\u001b[0m\n\u001b[0;32m     96\u001b[0m \u001b[39mfor\u001b[39;00m batch_r, pos_feat \u001b[39min\u001b[39;00m pos_loader:\n\u001b[0;32m     97\u001b[0m     \u001b[39mfor\u001b[39;00m batch_c, neg_feat \u001b[39min\u001b[39;00m neg_loader:\n\u001b[1;32m---> 98\u001b[0m         dist \u001b[39m=\u001b[39m cdist_rv(pos_feat, neg_feat, device \u001b[39m=\u001b[39;49m device)\n\u001b[0;32m     99\u001b[0m         row_index, col_index \u001b[39m=\u001b[39m torch\u001b[39m.\u001b[39mnonzero(torch\u001b[39m.\u001b[39mle(dist, threshold[batch_r]), as_tuple \u001b[39m=\u001b[39m \u001b[39mTrue\u001b[39;00m)\n\u001b[0;32m    100\u001b[0m         row_index\u001b[39m.\u001b[39madd_(batch_r\u001b[39m.\u001b[39mstart)\n",
      "File \u001b[1;32md:\\SpaProx\\imb_torch2.py:69\u001b[0m, in \u001b[0;36mcdist_rv\u001b[1;34m(XA, XB, p, device)\u001b[0m\n\u001b[0;32m     67\u001b[0m n \u001b[39m=\u001b[39m \u001b[39mint\u001b[39m(XA\u001b[39m.\u001b[39mshape[\u001b[39m1\u001b[39m]\u001b[39m/\u001b[39m\u001b[39m2\u001b[39m)\n\u001b[0;32m     68\u001b[0m XA_t \u001b[39m=\u001b[39m torch\u001b[39m.\u001b[39mcat((XA[:, n:], XA[:, :n]), \u001b[39m1\u001b[39m)\n\u001b[1;32m---> 69\u001b[0m dist \u001b[39m=\u001b[39m torch\u001b[39m.\u001b[39;49mcdist(XA, XB, p)\n\u001b[0;32m     70\u001b[0m dist_t \u001b[39m=\u001b[39m torch\u001b[39m.\u001b[39mcdist(XA_t, XB, p)\n\u001b[0;32m     72\u001b[0m \u001b[39mreturn\u001b[39;00m torch\u001b[39m.\u001b[39mminimum(dist, dist_t)\n",
      "File \u001b[1;32md:\\anaconda3\\envs\\scanpy\\lib\\site-packages\\torch\\functional.py:1214\u001b[0m, in \u001b[0;36mcdist\u001b[1;34m(x1, x2, p, compute_mode)\u001b[0m\n\u001b[0;32m   1211\u001b[0m     \u001b[39mreturn\u001b[39;00m handle_torch_function(\n\u001b[0;32m   1212\u001b[0m         cdist, (x1, x2), x1, x2, p\u001b[39m=\u001b[39mp, compute_mode\u001b[39m=\u001b[39mcompute_mode)\n\u001b[0;32m   1213\u001b[0m \u001b[39mif\u001b[39;00m compute_mode \u001b[39m==\u001b[39m \u001b[39m'\u001b[39m\u001b[39muse_mm_for_euclid_dist_if_necessary\u001b[39m\u001b[39m'\u001b[39m:\n\u001b[1;32m-> 1214\u001b[0m     \u001b[39mreturn\u001b[39;00m _VF\u001b[39m.\u001b[39;49mcdist(x1, x2, p, \u001b[39mNone\u001b[39;49;00m)  \u001b[39m# type: ignore[attr-defined]\u001b[39;00m\n\u001b[0;32m   1215\u001b[0m \u001b[39melif\u001b[39;00m compute_mode \u001b[39m==\u001b[39m \u001b[39m'\u001b[39m\u001b[39muse_mm_for_euclid_dist\u001b[39m\u001b[39m'\u001b[39m:\n\u001b[0;32m   1216\u001b[0m     \u001b[39mreturn\u001b[39;00m _VF\u001b[39m.\u001b[39mcdist(x1, x2, p, \u001b[39m1\u001b[39m)  \u001b[39m# type: ignore[attr-defined]\u001b[39;00m\n",
      "\u001b[1;31mKeyboardInterrupt\u001b[0m: "
     ]
    }
   ],
   "source": [
    "from imb_torch2 import eliminate_BD_neg\n",
    "a,b,c=eliminate_BD_neg(ds, device = -1)"
   ]
  },
  {
   "cell_type": "code",
   "execution_count": 28,
   "metadata": {},
   "outputs": [],
   "source": [
    "b = MyDataset(ds, a, 3)"
   ]
  },
  {
   "cell_type": "code",
   "execution_count": 37,
   "metadata": {},
   "outputs": [
    {
     "data": {
      "text/plain": [
       "3200.0"
      ]
     },
     "execution_count": 37,
     "metadata": {},
     "output_type": "execute_result"
    }
   ],
   "source": [
    "2**21 * 400 * 4 /1024/1024"
   ]
  },
  {
   "cell_type": "code",
   "execution_count": 6,
   "metadata": {},
   "outputs": [],
   "source": [
    "a = DS.LabeledDataset(ds)"
   ]
  },
  {
   "cell_type": "code",
   "execution_count": 7,
   "metadata": {},
   "outputs": [
    {
     "data": {
      "text/plain": [
       "488.75787353515625"
      ]
     },
     "execution_count": 7,
     "metadata": {},
     "output_type": "execute_result"
    }
   ],
   "source": [
    "from pympler.asizeof import asizeof\n",
    "asizeof(a)/1024/1024"
   ]
  },
  {
   "cell_type": "code",
   "execution_count": 7,
   "metadata": {},
   "outputs": [],
   "source": [
    "import torch\n",
    "import numpy as np\n",
    "a = np.array([True])\n",
    "b = torch.from_numpy(a).long()"
   ]
  }
 ],
 "metadata": {
  "kernelspec": {
   "display_name": "scanpy",
   "language": "python",
   "name": "python3"
  },
  "language_info": {
   "codemirror_mode": {
    "name": "ipython",
    "version": 3
   },
   "file_extension": ".py",
   "mimetype": "text/x-python",
   "name": "python",
   "nbconvert_exporter": "python",
   "pygments_lexer": "ipython3",
   "version": "3.9.13"
  },
  "orig_nbformat": 4
 },
 "nbformat": 4,
 "nbformat_minor": 2
}
